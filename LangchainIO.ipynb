{
 "cells": [
  {
   "cell_type": "markdown",
   "metadata": {},
   "source": [
    "# LangChain의 구성요소"
   ]
  },
  {
   "cell_type": "markdown",
   "metadata": {},
   "source": [
    "1. `Model` IO은 input과 output으로 나누어져 있습니다.  입력(input)은 prompt(명령을 내리는 곳)입니다. \n",
    "    * prompts\n",
    "    * Language Models\n",
    "    * Output parser \n",
    "\n",
    "2. `Retrieval`은 외부 데이터로 접근하여 이를 모델에 어떻게 제공하는지에 관련된 것입니다.\n",
    "    * document loaders\n",
    "    * Transformers\n",
    "    * Text Embedding \n",
    "    * Vector Stores\n",
    "    * Retrievers \n",
    "\n",
    "3. `Chains` - 이전에 조금 해봤던 부분\n",
    "\n",
    "4. `Agents`는 독립적으로 AI가 작동하도록 만들 수 있게 해주는 기능 (Chains이 필요한 도구들을 선택하여 사용할 수 있도록). 커스텀 도구를 만들어 준다면 chains 스스로 사용할 tool들을 선택할 수 있습니다. \n",
    "\n",
    "5. `Memory`는 그냥 챗봇이 기억할 수 있도록 해주는 기능 \n",
    "\n",
    "6. `callbacks`은 기본적으로 model이 무엇을 하고있는지 중간에 알 수 있도록. 모델이 답변을 제공하기 전에 실제로 모델이 어떤 일을 하고 있는 지 확인할 수 있습니다. "
   ]
  },
  {
   "cell_type": "markdown",
   "metadata": {},
   "source": [
    "## FewShotPromptTemplate \n",
    "\n",
    "- Fewshot은 모델에게 예제들을 준다는 뜻과 같습니다. 더 나은 대답을 할 수 있도록 하는 예제들을 더 줄 수도 있죠. \n",
    "- 구체적으로 대답하는 AI 모델이 필요하다고 가정해봅시다. 모델에게 어떻게 대답해야 하는지에 대한 예제를 AI 모델에게 주는 것이 prompt를 사용해서 어떻게 대답해야 하는지 알려주는 것보다 훨씬 좋습니다. \n",
    "    예를 들어 모델에게 콤마를 써서 구분해달라고 하거나, 소문자만 써야한다거나 등등 처럼 이렇게 prompt로 주는 것보다 내가 원하는 것을 예제로 보여주는 것이 더 성공적입니다. 왜냐하면 모델이 텍스트를 만들기 때문이죠. 따라서 prompt로 명령하는 것보다 어떻게 대답해야하는지에 대한 예시를 보여주는 것이 더 나은 방법입니다. 이게 fewShotPromptTemplate가 하는 일입니다. \n",
    "\n",
    "\n",
    "이를 통해 예제를 형식화 할 수 있습니다. 예를 들어 고객지원 봇을 만든다고 해볼게요. 회사가 고객 게시판 같이 이미 고객 지원을 위한 시스템이 있다고 했을 때, 그곳에는 많은 고객들과의 대화 기록이나 다른 많은 기록들이 있을 것입니다. 그럼 language model에게 어떻게 고객들에게 대응하는지 알려주고 싶을 것입니다. 그럼 그냥 대화 기록 같은 것들을 데이터베이스에서 가져와서 FewShotPromptTemplate를 사용하여 형식화 시켜주면 더 빠르게 잘 만들 수 있을 것입니다. 이 방식이 기본적으로 언어 모델에게 예제를 주는 방식입니다.  "
   ]
  },
  {
   "cell_type": "code",
   "execution_count": 5,
   "metadata": {},
   "outputs": [
    {
     "name": "stdout",
     "output_type": "stream",
     "text": [
      "AI: \n",
      "I know this:\n",
      "Capital: Seoul\n",
      "Language: Korean\n",
      "Food: Kimchi and Bibimbap\n",
      "Currency: South Korean Won"
     ]
    },
    {
     "data": {
      "text/plain": [
       "AIMessageChunk(content='AI: \\nI know this:\\nCapital: Seoul\\nLanguage: Korean\\nFood: Kimchi and Bibimbap\\nCurrency: South Korean Won')"
      ]
     },
     "execution_count": 5,
     "metadata": {},
     "output_type": "execute_result"
    }
   ],
   "source": [
    "from langchain.chat_models import ChatOpenAI\n",
    "from langchain.prompts import PromptTemplate\n",
    "from langchain.prompts.few_shot import FewShotPromptTemplate\n",
    "from langchain.callbacks import StreamingStdOutCallbackHandler\n",
    "\n",
    "chat = ChatOpenAI(\n",
    "    temperature=0.1,\n",
    "    streaming=True,\n",
    "    callbacks=[StreamingStdOutCallbackHandler()],\n",
    ")\n",
    "\n",
    "examples = [\n",
    "{\n",
    "\"question\": \"What do you know about France?\",\n",
    "\"answer\": \"\"\"\n",
    "Here is what I know:\n",
    "Capital: Paris\n",
    "Language: French\n",
    "Food: Wine and Cheese\n",
    "Currency: Euro\n",
    "\"\"\",\n",
    "},\n",
    "{\n",
    "\"question\": \"What do you know about Italy?\",\n",
    "\"answer\": \"\"\"\n",
    "I know this:\n",
    "Capital: Rome\n",
    "Language: Italian\n",
    "Food: Pizza and Pasta\n",
    "Currency: Euro\n",
    "\"\"\",\n",
    "},\n",
    "{\n",
    "\"question\": \"What do you know about Greece?\",\n",
    "\"answer\": \"\"\"\n",
    "I know this:\n",
    "Capital: Athens\n",
    "Language: Greek\n",
    "Food: Souvlaki and Feta Cheese\n",
    "Currency: Euro\n",
    "\"\"\",\n",
    "},\n",
    "]\n",
    "\n",
    "\n",
    "example_prompt = PromptTemplate.from_template(\"Human: {question}\\nAI: {answer}\\n\") # examples와 동일한 변수로 입력해야함\n",
    "\n",
    "prompt = FewShotPromptTemplate(\n",
    "    example_prompt=example_prompt,\n",
    "    examples=examples,\n",
    "    suffix= \"Human: What do you know about {country}?\", # 위의 형식화가 끝나고 마지막에 실행 사용자의 질문이 어떻게 보여질지\n",
    "    input_variables=[\"country\"]    \n",
    ")\n",
    "\n",
    "chain = prompt | chat \n",
    "\n",
    "chain.invoke({\n",
    "    'country': 'korea'\n",
    "})                           # 결과가 예시와 같게 출력됨."
   ]
  },
  {
   "cell_type": "markdown",
   "metadata": {},
   "source": [
    "### FewShotChatMessagePromptTemplate\n",
    "\n",
    "채팅 메세지를 위한 FewShotChatMessagePromptTemplate \n"
   ]
  },
  {
   "cell_type": "code",
   "execution_count": 5,
   "metadata": {},
   "outputs": [
    {
     "name": "stdout",
     "output_type": "stream",
     "text": [
      "I know this:\n",
      "There are two Koreas - North Korea and South Korea.\n",
      "Capital of North Korea: Pyongyang\n",
      "Capital of South Korea: Seoul\n",
      "Language: Korean\n",
      "Food: Kimchi and Bibimbap\n",
      "Currency: North Korean Won (North Korea) and South Korean Won (South Korea)"
     ]
    },
    {
     "data": {
      "text/plain": [
       "AIMessageChunk(content='I know this:\\nThere are two Koreas - North Korea and South Korea.\\nCapital of North Korea: Pyongyang\\nCapital of South Korea: Seoul\\nLanguage: Korean\\nFood: Kimchi and Bibimbap\\nCurrency: North Korean Won (North Korea) and South Korean Won (South Korea)')"
      ]
     },
     "execution_count": 5,
     "metadata": {},
     "output_type": "execute_result"
    }
   ],
   "source": [
    "from langchain.chat_models import ChatOpenAI\n",
    "from langchain.prompts import ChatPromptTemplate\n",
    "from langchain.prompts.few_shot import FewShotChatMessagePromptTemplate\n",
    "from langchain.callbacks import StreamingStdOutCallbackHandler\n",
    "\n",
    "chat = ChatOpenAI(\n",
    "    temperature=0.1,\n",
    "    streaming=True,\n",
    "    callbacks=[StreamingStdOutCallbackHandler()],\n",
    ")\n",
    "\n",
    "examples = [\n",
    "{\n",
    "\"country\": \"France?\",\n",
    "\"answer\": \"\"\"\n",
    "Here is what I know:\n",
    "Capital: Paris\n",
    "Language: French\n",
    "Food: Wine and Cheese\n",
    "Currency: Euro\n",
    "\"\"\",\n",
    "},\n",
    "{\n",
    "\"country\": \"Italy?\",\n",
    "\"answer\": \"\"\"\n",
    "I know this:\n",
    "Capital: Rome\n",
    "Language: Italian\n",
    "Food: Pizza and Pasta\n",
    "Currency: Euro\n",
    "\"\"\",\n",
    "},\n",
    "{\n",
    "\"country\": \"Greece?\",\n",
    "\"answer\": \"\"\"\n",
    "I know this:\n",
    "Capital: Athens\n",
    "Language: Greek\n",
    "Food: Souvlaki and Feta Cheese\n",
    "Currency: Euro\n",
    "\"\"\",\n",
    "},\n",
    "]\n",
    "\n",
    "\n",
    "example_prompt = ChatPromptTemplate.from_messages([\n",
    "    (\"human\", \"What do you know about {country}?\"),\n",
    "    (\"ai\",\"{answer}\")\n",
    "]) \n",
    "\n",
    "example_prompt = FewShotChatMessagePromptTemplate(\n",
    "    example_prompt=example_prompt,\n",
    "    examples=examples,\n",
    ")\n",
    "\n",
    "final_prompt = ChatPromptTemplate.from_messages([\n",
    "    (\"system\", \"you are a geography expert, you give short answers\"), # 답변의 길이를 짧게 유지하기 위해 추가\n",
    "    example_prompt,\n",
    "    (\"human\",  \"What do you know about {country}?\"),\n",
    "])\n",
    "\n",
    "chain = final_prompt | chat \n",
    "\n",
    "chain.invoke({\n",
    "    'country': 'Korea'\n",
    "})                           # 결과가 예시와 같게 출력됨."
   ]
  },
  {
   "cell_type": "markdown",
   "metadata": {},
   "source": [
    "### LengthBasedExampleSelector \n",
    "\n",
    "예제들을 형식화할 수 있고 사용자가 설정한 세팅값에 따라 prompt에 알맞은 예제를 골라줄 것입니다."
   ]
  },
  {
   "cell_type": "code",
   "execution_count": 8,
   "metadata": {},
   "outputs": [
    {
     "data": {
      "text/plain": [
       "'Human: What do you know about Italy?\\nAI: \\nI know this:\\nCapital: Rome\\nLanguage: Italian\\nFood: Pizza and Pasta\\nCurrency: Euro\\n\\n\\n\\nHuman: What do you know about Brazil?'"
      ]
     },
     "execution_count": 8,
     "metadata": {},
     "output_type": "execute_result"
    }
   ],
   "source": [
    "from typing import Any, Dict\n",
    "from langchain.chat_models import ChatOpenAI\n",
    "from langchain.prompts import PromptTemplate\n",
    "from langchain.prompts import ChatPromptTemplate\n",
    "from langchain.prompts.few_shot import FewShotPromptTemplate\n",
    "from langchain.callbacks import StreamingStdOutCallbackHandler\n",
    "from langchain.prompts.example_selector import LengthBasedExampleSelector\n",
    "from langchain.prompts.example_selector.base import BaseExampleSelector\n",
    "\n",
    "\n",
    "chat = ChatOpenAI(\n",
    "    temperature=0.1,\n",
    "    streaming=True,\n",
    "    callbacks=[StreamingStdOutCallbackHandler()],\n",
    ")\n",
    "\n",
    "examples = [\n",
    "{\n",
    "\"question\": \"What do you know about France?\",\n",
    "\"answer\": \"\"\"\n",
    "Here is what I know:\n",
    "Capital: Paris\n",
    "Language: French\n",
    "Food: Wine and Cheese\n",
    "Currency: Euro\n",
    "\"\"\",\n",
    "},\n",
    "{\n",
    "\"question\": \"What do you know about Italy?\",\n",
    "\"answer\": \"\"\"\n",
    "I know this:\n",
    "Capital: Rome\n",
    "Language: Italian\n",
    "Food: Pizza and Pasta\n",
    "Currency: Euro\n",
    "\"\"\",\n",
    "},\n",
    "{\n",
    "\"question\": \"What do you know about Greece?\",\n",
    "\"answer\": \"\"\"\n",
    "I know this:\n",
    "Capital: Athens\n",
    "Language: Greek\n",
    "Food: Souvlaki and Feta Cheese\n",
    "Currency: Euro\n",
    "\"\"\",\n",
    "},\n",
    "]\n",
    "\n",
    "class RandomExampleSelector(BaseExampleSelector):\n",
    "\n",
    "    def __init__(self, examples):\n",
    "        self.examples = examples\n",
    "\n",
    "    def add_example(self, example):\n",
    "        return self.examples.append(example)     \n",
    "        \n",
    "    def select_examples(self, input_variables):\n",
    "        from random import choice\n",
    "        return [choice(self.examples)]\n",
    "\n",
    "example_prompt = PromptTemplate.from_template(\"Human: {question}\\nAI: {answer}\\n\") # examples와 동일한 변수로 입력해야함\n",
    "\n",
    "example_selector = RandomExampleSelector(\n",
    "    examples = examples,\n",
    ")\n",
    "\n",
    "prompt = FewShotPromptTemplate(\n",
    "    example_prompt=example_prompt,\n",
    "    example_selector = example_selector,\n",
    "    suffix= \"Human: What do you know about {country}?\", # 위의 형식화가 끝나고 마지막에 실행 사용자의 질문이 어떻게 보여질지\n",
    "    input_variables=[\"country\"]    \n",
    ")\n",
    "\n",
    "prompt.format(country=\"Brazil\")"
   ]
  },
  {
   "cell_type": "markdown",
   "metadata": {},
   "source": [
    "### Serialization and Composition\n",
    "\n",
    "json , yaml 파일 만들기\n",
    "\n",
    "json 파일로 만든 프롬프트를 가져와서 사용할 수 있음. \n",
    "프롬프트 저장용.\n",
    "prompt를 별도의 저장용으로 만들 수 있다.\n",
    "\n"
   ]
  },
  {
   "cell_type": "code",
   "execution_count": 13,
   "metadata": {},
   "outputs": [
    {
     "name": "stdout",
     "output_type": "stream",
     "text": [
      "Arrrg! Me favorite food be a good ol' plate o' fish and chips! The taste o' the salty sea in me mouth be a delight, matey!"
     ]
    },
    {
     "data": {
      "text/plain": [
       "AIMessageChunk(content=\"Arrrg! Me favorite food be a good ol' plate o' fish and chips! The taste o' the salty sea in me mouth be a delight, matey!\")"
      ]
     },
     "execution_count": 13,
     "metadata": {},
     "output_type": "execute_result"
    }
   ],
   "source": [
    "from langchain.chat_models import ChatOpenAI\n",
    "from langchain.callbacks import StreamingStdOutCallbackHandler\n",
    "from langchain.prompts.pipeline import PipelinePromptTemplate # PipelinePromptTemplate는 많은 prompt를 하나의 prompt로 합치는 것을 도와줌\n",
    "\n",
    "chat = ChatOpenAI(\n",
    "    temperature=0.1,\n",
    "    streaming=True,\n",
    "    callbacks=[\n",
    "        StreamingStdOutCallbackHandler(),\n",
    "    ],\n",
    ")\n",
    "\n",
    "intro = PromptTemplate.from_template(\n",
    "    \"\"\"\n",
    "    You are a role playing assistant.\n",
    "    And you are impersonating a {character}\n",
    "\"\"\"\n",
    ")\n",
    "\n",
    "example = PromptTemplate.from_template(\n",
    "    \"\"\"\n",
    "    This is an example of how you talk:\n",
    "\n",
    "    Human: {example_question}\n",
    "    You: {example_answer}\n",
    "\"\"\"\n",
    ")\n",
    "\n",
    "start = PromptTemplate.from_template(\n",
    "    \"\"\"\n",
    "    Start now!\n",
    "\n",
    "    Human: {question}\n",
    "    You:\n",
    "\"\"\"\n",
    ")\n",
    "\n",
    "final = PromptTemplate.from_template(\n",
    "    \"\"\"\n",
    "    {intro}\n",
    "                                     \n",
    "    {example}\n",
    "                              \n",
    "    {start}\n",
    "\"\"\"\n",
    ")\n",
    "\n",
    "prompts = [\n",
    "    (\"intro\", intro),\n",
    "    (\"example\", example),\n",
    "    (\"start\", start),\n",
    "]\n",
    "\n",
    "full_prompt = PipelinePromptTemplate(final_prompt=final, pipeline_prompts=prompts,\n",
    "                                     )\n",
    "\n",
    "full_prompt.format(\n",
    "    character = \"Pirate\",\n",
    "    example_question = \"What is your location?\",\n",
    "    example_answer = \"Arrrg! That is a secret!\",\n",
    "    question = \"What is your favorite food?\",\n",
    ")\n",
    "\n",
    "chain = full_prompt | chat\n",
    "\n",
    "chain.invoke({\n",
    "    \"character\" : \"Pirate\",\n",
    "    \"example_question\" : \"What is your location?\",\n",
    "    \"example_answer\" : \"Arrrg! That is a secret!\",\n",
    "    \"question\" : \"What is your favorite food?\",\n",
    "})"
   ]
  },
  {
   "cell_type": "markdown",
   "metadata": {},
   "source": [
    "### Caching \n",
    "\n",
    "캐싱을 사용하면 LM(언어 모델)의 응답을 저장할 수 있습니다. "
   ]
  },
  {
   "cell_type": "code",
   "execution_count": 17,
   "metadata": {},
   "outputs": [
    {
     "name": "stdout",
     "output_type": "stream",
     "text": [
      "\u001b[32;1m\u001b[1;3m[llm/start]\u001b[0m \u001b[1m[1:llm:ChatOpenAI] Entering LLM run with input:\n",
      "\u001b[0m{\n",
      "  \"prompts\": [\n",
      "    \"Human: How do you make italian pasta\"\n",
      "  ]\n",
      "}\n",
      "\u001b[36;1m\u001b[1;3m[llm/end]\u001b[0m \u001b[1m[1:llm:ChatOpenAI] [11.41s] Exiting LLM run with output:\n",
      "\u001b[0m{\n",
      "  \"generations\": [\n",
      "    [\n",
      "      {\n",
      "        \"text\": \"To make Italian pasta, you will need the following ingredients:\\n\\n- 2 cups of all-purpose flour\\n- 2 large eggs\\n- 1/2 teaspoon of salt\\n- Water (if needed)\\n\\nHere's a step-by-step guide to making Italian pasta:\\n\\n1. On a clean surface or in a large mixing bowl, pour the flour and create a well in the center.\\n2. Crack the eggs into the well and add the salt.\\n3. Using a fork, beat the eggs and gradually incorporate the flour from the sides of the well. Continue mixing until a dough starts to form.\\n4. Once the dough becomes too stiff to mix with a fork, use your hands to knead it. Fold the dough over itself and push it away with the heel of your hand. Repeat this process for about 10 minutes until the dough becomes smooth and elastic.\\n5. If the dough is too dry, add a little water, one tablespoon at a time, until it reaches the desired consistency. If it's too wet, add a little flour.\\n6. Once the dough is ready, cover it with a clean kitchen towel or plastic wrap and let it rest for about 30 minutes. This will allow the gluten to relax and make the dough easier to roll out.\\n7. After resting, divide the dough into smaller portions. Take one portion and flatten it with your hands.\\n8. Using a rolling pin, roll out the dough into a thin sheet. If the dough sticks to the surface or rolling pin, lightly dust them with flour.\\n9. Once the dough is rolled out, you can cut it into your desired pasta shape. For example, you can make fettuccine by cutting the dough into long, thin strips or make farfalle by cutting small rectangles and pinching them in the center.\\n10. As you cut the pasta, lay it out on a clean surface or hang it on a pasta drying rack to prevent sticking.\\n11. Repeat the rolling and cutting process with the remaining dough portions.\\n12. To cook the pasta, bring a large pot of salted water to a boil. Add the pasta and cook until al dente, which means it should still have a slight bite to it. The cooking time will depend on the thickness and shape of the pasta, so taste it occasionally to check for doneness.\\n13. Once cooked, drain the pasta and serve it with your favorite sauce or toppings.\\n\\nEnjoy your homemade Italian pasta!\",\n",
      "        \"generation_info\": {\n",
      "          \"finish_reason\": \"stop\"\n",
      "        },\n",
      "        \"type\": \"ChatGeneration\",\n",
      "        \"message\": {\n",
      "          \"lc\": 1,\n",
      "          \"type\": \"constructor\",\n",
      "          \"id\": [\n",
      "            \"langchain\",\n",
      "            \"schema\",\n",
      "            \"messages\",\n",
      "            \"AIMessage\"\n",
      "          ],\n",
      "          \"kwargs\": {\n",
      "            \"content\": \"To make Italian pasta, you will need the following ingredients:\\n\\n- 2 cups of all-purpose flour\\n- 2 large eggs\\n- 1/2 teaspoon of salt\\n- Water (if needed)\\n\\nHere's a step-by-step guide to making Italian pasta:\\n\\n1. On a clean surface or in a large mixing bowl, pour the flour and create a well in the center.\\n2. Crack the eggs into the well and add the salt.\\n3. Using a fork, beat the eggs and gradually incorporate the flour from the sides of the well. Continue mixing until a dough starts to form.\\n4. Once the dough becomes too stiff to mix with a fork, use your hands to knead it. Fold the dough over itself and push it away with the heel of your hand. Repeat this process for about 10 minutes until the dough becomes smooth and elastic.\\n5. If the dough is too dry, add a little water, one tablespoon at a time, until it reaches the desired consistency. If it's too wet, add a little flour.\\n6. Once the dough is ready, cover it with a clean kitchen towel or plastic wrap and let it rest for about 30 minutes. This will allow the gluten to relax and make the dough easier to roll out.\\n7. After resting, divide the dough into smaller portions. Take one portion and flatten it with your hands.\\n8. Using a rolling pin, roll out the dough into a thin sheet. If the dough sticks to the surface or rolling pin, lightly dust them with flour.\\n9. Once the dough is rolled out, you can cut it into your desired pasta shape. For example, you can make fettuccine by cutting the dough into long, thin strips or make farfalle by cutting small rectangles and pinching them in the center.\\n10. As you cut the pasta, lay it out on a clean surface or hang it on a pasta drying rack to prevent sticking.\\n11. Repeat the rolling and cutting process with the remaining dough portions.\\n12. To cook the pasta, bring a large pot of salted water to a boil. Add the pasta and cook until al dente, which means it should still have a slight bite to it. The cooking time will depend on the thickness and shape of the pasta, so taste it occasionally to check for doneness.\\n13. Once cooked, drain the pasta and serve it with your favorite sauce or toppings.\\n\\nEnjoy your homemade Italian pasta!\",\n",
      "            \"additional_kwargs\": {}\n",
      "          }\n",
      "        }\n",
      "      }\n",
      "    ]\n",
      "  ],\n",
      "  \"llm_output\": {\n",
      "    \"token_usage\": {\n",
      "      \"prompt_tokens\": 13,\n",
      "      \"completion_tokens\": 497,\n",
      "      \"total_tokens\": 510\n",
      "    },\n",
      "    \"model_name\": \"gpt-3.5-turbo\",\n",
      "    \"system_fingerprint\": null\n",
      "  },\n",
      "  \"run\": null\n",
      "}\n"
     ]
    },
    {
     "data": {
      "text/plain": [
       "\"To make Italian pasta, you will need the following ingredients:\\n\\n- 2 cups of all-purpose flour\\n- 2 large eggs\\n- 1/2 teaspoon of salt\\n- Water (if needed)\\n\\nHere's a step-by-step guide to making Italian pasta:\\n\\n1. On a clean surface or in a large mixing bowl, pour the flour and create a well in the center.\\n2. Crack the eggs into the well and add the salt.\\n3. Using a fork, beat the eggs and gradually incorporate the flour from the sides of the well. Continue mixing until a dough starts to form.\\n4. Once the dough becomes too stiff to mix with a fork, use your hands to knead it. Fold the dough over itself and push it away with the heel of your hand. Repeat this process for about 10 minutes until the dough becomes smooth and elastic.\\n5. If the dough is too dry, add a little water, one tablespoon at a time, until it reaches the desired consistency. If it's too wet, add a little flour.\\n6. Once the dough is ready, cover it with a clean kitchen towel or plastic wrap and let it rest for about 30 minutes. This will allow the gluten to relax and make the dough easier to roll out.\\n7. After resting, divide the dough into smaller portions. Take one portion and flatten it with your hands.\\n8. Using a rolling pin, roll out the dough into a thin sheet. If the dough sticks to the surface or rolling pin, lightly dust them with flour.\\n9. Once the dough is rolled out, you can cut it into your desired pasta shape. For example, you can make fettuccine by cutting the dough into long, thin strips or make farfalle by cutting small rectangles and pinching them in the center.\\n10. As you cut the pasta, lay it out on a clean surface or hang it on a pasta drying rack to prevent sticking.\\n11. Repeat the rolling and cutting process with the remaining dough portions.\\n12. To cook the pasta, bring a large pot of salted water to a boil. Add the pasta and cook until al dente, which means it should still have a slight bite to it. The cooking time will depend on the thickness and shape of the pasta, so taste it occasionally to check for doneness.\\n13. Once cooked, drain the pasta and serve it with your favorite sauce or toppings.\\n\\nEnjoy your homemade Italian pasta!\""
      ]
     },
     "execution_count": 17,
     "metadata": {},
     "output_type": "execute_result"
    }
   ],
   "source": [
    "from langchain.chat_models import ChatOpenAI\n",
    "from langchain.callbacks import StreamingStdOutCallbackHandler\n",
    "from langchain.globals import set_llm_cache, set_debug\n",
    "from langchain.cache import InMemoryCache\n",
    "\n",
    "set_llm_cache(InMemoryCache())\n",
    "set_debug(True)\n",
    "\n",
    "chat = ChatOpenAI(\n",
    "    temperature=0.1,\n",
    ")\n",
    "\n",
    "chat.predict(\"How do you make italian pasta\")"
   ]
  },
  {
   "cell_type": "code",
   "execution_count": 15,
   "metadata": {},
   "outputs": [
    {
     "data": {
      "text/plain": [
       "\"To make Italian pasta, you will need the following ingredients:\\n\\n- 2 cups of all-purpose flour\\n- 2 large eggs\\n- 1/2 teaspoon of salt\\n- Water (if needed)\\n\\nHere's a step-by-step guide to making Italian pasta:\\n\\n1. On a clean surface or in a large mixing bowl, pour the flour and create a well in the center.\\n\\n2. Crack the eggs into the well and add the salt.\\n\\n3. Using a fork or your fingers, gradually mix the eggs and salt into the flour, incorporating a little at a time.\\n\\n4. Once the dough starts to come together, knead it with your hands until it forms a smooth and elastic ball. If the dough is too dry, you can add a little water, teaspoon by teaspoon, until it reaches the desired consistency. If it's too wet, add a little more flour.\\n\\n5. Once the dough is formed, cover it with a clean kitchen towel or plastic wrap and let it rest for about 30 minutes. This allows the gluten to relax and makes the dough easier to work with.\\n\\n6. After resting, divide the dough into smaller portions. Take one portion and flatten it with your hands or a rolling pin until it's about 1/4 inch thick.\\n\\n7. If you have a pasta machine, pass the dough through the machine, starting with the widest setting and gradually reducing the thickness until you reach the desired thickness for your pasta. If you don't have a pasta machine, you can use a rolling pin to roll out the dough as thin as possible.\\n\\n8. Once the dough is rolled out, you can cut it into your desired pasta shape. For example, you can cut it into thin strips for spaghetti or fettuccine, or into squares for ravioli.\\n\\n9. As you cut the pasta, dust it with flour to prevent sticking. You can also hang the pasta on a drying rack or lay it flat on a clean surface until you're ready to cook it.\\n\\n10. To cook the pasta, bring a large pot of salted water to a boil. Add the pasta and cook it until al dente, which means it's cooked but still slightly firm to the bite. The cooking time will vary depending on the thickness and shape of the pasta, so taste it occasionally to check for doneness.\\n\\n11. Once the pasta is cooked, drain it well and serve it with your favorite sauce or toppings.\\n\\nEnjoy your homemade Italian pasta!\""
      ]
     },
     "execution_count": 15,
     "metadata": {},
     "output_type": "execute_result"
    }
   ],
   "source": [
    "chat.predict(\"How do you make italian pasta\") # 재실행하면 똑같은 프롬프트의 내용을 저장했다가 다시 알려줌. 비용 절약"
   ]
  }
 ],
 "metadata": {
  "kernelspec": {
   "display_name": "env",
   "language": "python",
   "name": "python3"
  },
  "language_info": {
   "codemirror_mode": {
    "name": "ipython",
    "version": 3
   },
   "file_extension": ".py",
   "mimetype": "text/x-python",
   "name": "python",
   "nbconvert_exporter": "python",
   "pygments_lexer": "ipython3",
   "version": "3.10.9"
  }
 },
 "nbformat": 4,
 "nbformat_minor": 2
}
