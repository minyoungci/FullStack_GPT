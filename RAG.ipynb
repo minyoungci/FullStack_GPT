{
 "cells": [
  {
   "cell_type": "markdown",
   "metadata": {},
   "source": [
    "# RAG\n",
    "\n",
    "- \"RAG\"는 \"Retrieval-Augmented Generation\"의 약자로, \"검색-증강 생성\"이라는 의미를 가지고 있습니다. 이는 자연어 처리(NLP) 및 기계 학습 분야, 특히 챗봇이나 질문-응답 시스템과 같은 고급 언어 모델을 구축하는 데 사용되는 기술입니다.\n",
    "\n",
    "- RAG에 대한 간략한 개요는 다음과 같습니다:\n",
    "\n",
    "검색과 생성의 결합: RAG는 NLP의 두 가지 주요 구성 요소인 정보 검색과 응답 생성을 결합합니다. 검색 부분은 관련 정보를 찾기 위해 대규모 데이터베이스나 문서 컬렉션을 검색하는 과정을 포함합니다. 생성 부분은 검색된 정보를 바탕으로 일관되고 맥락적으로 적절한 텍스트를 생성하는 과정입니다.\n",
    "\n",
    "\n",
    "작동 방식: RAG 시스템에서 질문이나 프롬프트가 주어지면 모델은 먼저 질문에 대한 답변을 제공하는 데 유용한 정보를 포함할 수 있는 관련 문서나 텍스트를 검색합니다. 그런 다음 이 검색된 정보를 생성 모델에 공급하여 일관된 응답을 합성합니다.\n",
    "\n",
    "\n",
    "- 장점: RAG의 주요 장점은 모델이 외부 지식을 활용할 수 있게 하여 보다 정확하고 상세하며 맥락적으로 관련된 답변을 제공할 수 있다는 것입니다. 이는 특정 지식이나 사실적 정보가 필요한 질문에 특히 유용합니다.\n",
    "\n",
    "\n",
    "- 응용 분야: RAG는 챗봇, 질문-응답 시스템 및 정확하고 맥락적으로 관련된 정보를 제공하는 것이 중요한 다른 AI 도구와 같은 다양한 응용 분야에 사용됩니다. 특히 모델이 다양한 주제와 데이터를 기반으로 이해하고 응답을 생성해야 하는 상황에서 유용합니다.\n",
    "개발 및 사용: AI 및 기계 학습 커뮤니티에서 RAG는 다양한 연구 논문과 구현이 개발되고 있으며 주요 초점 중 하나입니다. 이는 학습된 정보뿐만 아니라 외부 소스에서 새롭고 관련된 정보를 통합하여 응답의 질과 관련성을 향상시키는 더 정교한 AI 시스템으로 나아가는 단계를 나타냅니다."
   ]
  },
  {
   "cell_type": "markdown",
   "metadata": {},
   "source": [
    "## Retrieval - RAG의 첫 번째 단계\n",
    "\n",
    "### Data Loader \n",
    "\n",
    "- Loader는 소스에서 데이터를 추출하고 랭체인에 가져다 주는 코드 \n",
    "\n",
    "\n",
    "### Splitters\n",
    "\n",
    "- 문서에서 필요한 부분만 찾을 때 ! \n",
    "\n",
    "- 두 가지 방법이 있음. "
   ]
  },
  {
   "cell_type": "code",
   "execution_count": 12,
   "metadata": {},
   "outputs": [
    {
     "data": {
      "text/html": [
       "<style>.output_scroll { height: 1000px; }</style>"
      ],
      "text/plain": [
       "<IPython.core.display.HTML object>"
      ]
     },
     "metadata": {},
     "output_type": "display_data"
    }
   ],
   "source": [
    "from IPython.display import HTML, display\n",
    "\n",
    "# 출력 영역의 최대 높이를 설정 (예: 1000px)\n",
    "display(HTML(\"<style>.output_scroll { height: 1000px; }</style>\"))"
   ]
  },
  {
   "cell_type": "code",
   "execution_count": 16,
   "metadata": {},
   "outputs": [
    {
     "name": "stderr",
     "output_type": "stream",
     "text": [
      "[nltk_data] Downloading package averaged_perceptron_tagger to\n",
      "[nltk_data]     /home/minyoungxi/nltk_data...\n",
      "[nltk_data]   Unzipping taggers/averaged_perceptron_tagger.zip.\n"
     ]
    },
    {
     "data": {
      "text/plain": [
       "[Document(page_content='Part One\\n\\n1\\n\\nIt was a bright cold day in April, and the clocks were striking thirteen. Winston Smith, his chin nuzzled into his breast in an effort to escape the vile wind, slipped quickly through the glass doors of Victory Mansions, though not quickly enough to prevent a swirl of gritty dust from entering along with him.\\n\\n---\\n\\nThe hallway smelt of boiled cabbage and old rag mats. At one end of it a coloured poster, too large for indoor display, had been tacked to the wall.', metadata={'source': './files/chapter1.doc'}),\n",
       " Document(page_content='It depicted simply an enormous face, more than a metre wide: the face of a man of about forty-five, with a heavy black moustache and ruggedly handsome features.\\n\\nWinston made for the stairs. It was no use trying the lift.\\n\\nEven at the best of times it was seldom working, and at present the electric current was cut off during daylight hours.\\n\\nIt was part of the economy drive in preparation for Hate Week.\\n\\nThe flat was seven flights up, and Winston, who was thirty-nine and had a varicose ulcer above his right ankle, went slowly, resting several times on the way.', metadata={'source': './files/chapter1.doc'}),\n",
       " Document(page_content='On each landing, opposite the lift-shaft, the poster with the enormous face gazed from the wall.\\n\\n---\\n\\nIt was one of those pictures which are so contrived that the eyes follow you about when you move. BIG BROTHER IS WATCHING YOU, the caption beneath it ran.\\n\\nInside the flat a fruity voice was reading out a list of figures which had something to do with the production of pig-iron.\\n\\nThe voice came from an oblong metal plaque like a dulled mirror which formed part of the surface of the right-hand wall.', metadata={'source': './files/chapter1.doc'}),\n",
       " Document(page_content='Winston turned a switch and the voice sank somewhat, though the words were still distinguishable. The instrument (the telescreen, it was called) could be dimmed, but there was no way of shutting it off completely.\\n\\nHe moved over to the window: a smallish, frail figure, the meagreness of his body merely emphasized by the blue overalls which were the uniform of the party.\\n\\nHis hair was very fair, his face naturally sanguine, his skin roughened by coarse soap and blunt razor blades and the cold of the winter that had just ended.\\n\\n---', metadata={'source': './files/chapter1.doc'}),\n",
       " Document(page_content=\"---\\n\\nOutside, even through the shut window-pane, the world looked cold. Down in the street little eddies of wind were whirling dust and torn paper into spirals, and though the sun was shining and the sky a harsh blue, there seemed to be no colour in anything, except the posters that were plastered everywhere.\\n\\nThe blackmoustachio'd face gazed down from every commanding corner. There was one on the house-front immediately opposite.\", metadata={'source': './files/chapter1.doc'}),\n",
       " Document(page_content=\"BIG BROTHER IS WATCHING YOU, the caption said, while the dark eyes looked deep into Winston's own. Down at streetlevel another poster, torn at one corner, flapped fitfully in the wind, alternately covering and uncovering the single word INGSOC.\\n\\nIn the far distance a helicopter skimmed down between the roofs, hovered for an instant like a bluebottle, and darted away again with a curving flight.\\n\\nIt was the police patrol, snooping into people's windows. The patrols did not matter, however. Only the Thought Police mattered.\\n\\n---\", metadata={'source': './files/chapter1.doc'}),\n",
       " Document(page_content=\"---\\n\\nBehind Winston's back the voice from the telescreen was still babbling away about pig-iron and the overfulfilment of the Ninth Three-Year Plan.\\n\\nThe telescreen received and transmitted simultaneously.\\n\\nAny sound that Winston made, above the level of a very low whisper, would be picked up by it, moreover, so long as he remained within the field of vision which the metal plaque commanded, he could be seen as well as heard. There was of course no way of knowing whether you were being watched at any given moment.\", metadata={'source': './files/chapter1.doc'}),\n",
       " Document(page_content='How often, or on what system, the Thought Police plugged in on any individual wire was guesswork.\\n\\nIt was even conceivable that they watched everybody all the time. But at any rate they could plug in your wire whenever they wanted to.\\n\\nYou had to live -- did live, from habit that became instinct -- in the assumption that every sound you made was overheard, and, except in darkness, every movement scrutinized.\\n\\n---', metadata={'source': './files/chapter1.doc'}),\n",
       " Document(page_content='---\\n\\nWinston kept his back turned to the telescreen. It was safer, though, as he well knew, even a back can be revealing. A kilometre away the Ministry of Truth, his place of work, towered vast and white above the grimy landscape.\\n\\nThis, he thought with a sort of vague distaste -- this was London, chief city of Airstrip One, itself the third most populous of the provinces of Oceania.\\n\\nHe tried to squeeze out some childhood memory that should tell him whether London had always been quite like this.', metadata={'source': './files/chapter1.doc'}),\n",
       " Document(page_content='Were there always these vistas of rotting nineteenth-century houses, their sides shored up with baulks of timber, their windows patched with cardboard and their roofs with corrugated iron, their crazy garden walls sagging in all directions? And the bombed sites where the plaster dust swirled in the air and the willow-herb straggled over the heaps of rubble;\\n\\nand the places where the bombs had cleared a larger patch and there had sprung up sordid colonies of wooden dwellings like chicken-houses?', metadata={'source': './files/chapter1.doc'}),\n",
       " Document(page_content='But it was no use, he could not remember: nothing remained of his childhood except a series of bright-lit tableaux occurring against no background and mostly unintelligible.\\n\\nThe Ministry of Truth -- Minitrue, in Newspeak -- was startlingly different from any other object in sight. It was an enormous pyramidal structure of glittering white concrete, soaring up, terrace after terrace, 300 metres into the air. From where Winston stood it was just possible to read, picked out on its white face in elegant lettering, the three slogans of the Party:', metadata={'source': './files/chapter1.doc'})]"
      ]
     },
     "execution_count": 16,
     "metadata": {},
     "output_type": "execute_result"
    }
   ],
   "source": [
    "from typing import Text\n",
    "from langchain.chat_models import ChatOpenAI\n",
    "from langchain.document_loaders import UnstructuredFileLoader\n",
    "from langchain.text_splitter import RecursiveCharacterTextSplitter\n",
    "\n",
    "splitter = RecursiveCharacterTextSplitter(\n",
    "    separators='\\n',\n",
    "    chunk_size=600,\n",
    "    chunk_overlap = 100,\n",
    ") # 문장이나 문단 단위로 자를 수 있다 !\n",
    "\n",
    "loader = UnstructuredFileLoader(\"./files/chapter1.doc\")\n",
    "\n",
    "doc = loader.load\n",
    "\n",
    "loader.load_and_split(text_splitter=splitter)"
   ]
  }
 ],
 "metadata": {
  "kernelspec": {
   "display_name": "LLM_Langchain_APP-7aD6jX0r",
   "language": "python",
   "name": "python3"
  },
  "language_info": {
   "codemirror_mode": {
    "name": "ipython",
    "version": 3
   },
   "file_extension": ".py",
   "mimetype": "text/x-python",
   "name": "python",
   "nbconvert_exporter": "python",
   "pygments_lexer": "ipython3",
   "version": "3.10.12"
  }
 },
 "nbformat": 4,
 "nbformat_minor": 2
}
