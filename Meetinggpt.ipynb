{
 "cells": [
  {
   "cell_type": "code",
   "execution_count": 20,
   "metadata": {},
   "outputs": [],
   "source": [
    "import subprocess\n",
    "from pydub import AudioSegment\n",
    "import math\n",
    "\n",
    "\n",
    "def extract_audio_from_video(video_path, audio_path):\n",
    "    command = [\n",
    "        \"ffmpeg\",\n",
    "        \"-i\",\n",
    "        video_path,\n",
    "        \"-vn\",\n",
    "        audio_path,\n",
    "    ]\n",
    "    subprocess.run(command)\n",
    "\n",
    "\n",
    "def cut_audio_in_chunks(audio_path, chunk_size, chunks_folder):\n",
    "    track = AudioSegment.from_mp3(audio_path) # AudioSegment.from_mp3()를 이용하여 mp3 파일을 불러옵니다.\n",
    "    chunk_len = chunk_size * 60 * 1000 # chunk size를 밀리초로 변환합니다. (pydub은 밀리초 단위로 시간을 다룹니다.)\n",
    "    chunks = math.ceil(len(track) / chunk_len) # 오디오의 길이를 10분으로 나누어 몇 개의 10분 오디오가 나오는지 확인합니다. 예를 들어 7.3이라면 7덩이의 오디오 뭉치가 생깁니다. 그러나 0.3에 해당하는 부분은 생성할 수 없으므로 8개를 생성해야합니다.\n",
    "    for i in range(chunks): # 각 덩어리의 시작과 종료 시간을 찾아보자 \n",
    "        start_time = i * chunk_len # 시작 시간을 계산합니다.\n",
    "        end_time = (i + 1) * chunk_len # 종료 시간을 계산합니다\n",
    "\n",
    "        chunk = track[start_time:end_time]\n",
    "\n",
    "        chunk.export(f\"{chunks_folder}/chunk_{i}.mp3\", format=\"mp3\")"
   ]
  },
  {
   "cell_type": "code",
   "execution_count": 23,
   "metadata": {},
   "outputs": [],
   "source": [
    "cut_audio_in_chunks(\"./files/podcast.mp3\", 10, \"./files/chunks\")"
   ]
  },
  {
   "cell_type": "code",
   "execution_count": null,
   "metadata": {},
   "outputs": [],
   "source": []
  },
  {
   "cell_type": "markdown",
   "metadata": {},
   "source": [
    "### 긴 오디오 파일을 10분 길이의 mp3 파일들로 변환"
   ]
  },
  {
   "cell_type": "markdown",
   "metadata": {},
   "source": [
    "# Whisper Transcript"
   ]
  },
  {
   "cell_type": "code",
   "execution_count": 1,
   "metadata": {},
   "outputs": [
    {
     "data": {
      "text/plain": [
       "<OpenAIObject at 0x7f2d9c360e00> JSON: {\n",
       "  \"text\": \"The following is a conversation with Elon Musk, his fourth time on this, The Lex Friedman Podcast. \\u266a Whistling \\u266a Ha ha ha. I thought you were gonna finish it. It's one of the greatest themes in all of film history. \\u266a Whistling \\u266a Yeah, that's great. So, I was just thinking about the Roman Empire, as one does. Ha ha ha ha ha. There's that whole meme where all guys are thinking about the Roman Empire at least once a day. And half the population's confused whether it's true or not. But, more seriously, thinking about the wars going on in the world today. And as you know, war and military conquest has been a big part of Roman society and culture. And it, I think, has been a big part of most empires and dynasties throughout human history, so. Yeah, they usually came as a result of conquest. I mean, there's some like the Austro-Hungarian Empire where there was just a lot of sort of clever marriages. But fundamentally, there's an engine of conquest. Yeah, almost always. And they celebrate excellence in warfare. Many of the leaders were excellent generals. Yeah. That kind of thing. So, big picture question, Grok approved. I ask, this is a good question to ask. Get tested, Grok approved? Yeah. Ha ha ha. At least on fun mode. To what degree do you think war is part of human nature versus a consequence of how human societies are structured? I ask this as you have somehow controversially been a proponent of peace. I'm generally a proponent of peace. I mean, ignorance is perhaps, in my view, the real enemy to counter it. That's the real hard part, not, you know, fighting other humans. But all creatures fight. I mean, the jungle is, you look at the, people think of nature as perhaps some sort of peaceful thing, but in fact, it is not. There's some quite funny Werner Herzog thing where he's like in the jungle, like saying that it's like basically just murder and death in every direction. I mean, the plants, animals, and the jungle are constantly trying to kill and eat each other every single day, every minute. So, it's not like, you know, we're unusual in that respect. Well, there's a relevant question here, whether with greater intelligence comes greater control over these base instincts for violence. Yes, we have much more of an ability to control our lumbar instinct for violence than, say, a chimpanzee. And in fact, if one looks at, say, chimpanzee society, it is not friendly. I mean, the bonobos are an exception, but chimpanzee society is full of violence, and it's quite horrific, frankly. That's our limbic system in action. Like, you don't wanna be on the wrong side of a chimpanzee. It'll eat your face off and tear your nuts off. Yeah, basically, there's no limits or ethics, or they're almost a just war. There's no just war in chimpanzee societies. Is war and dominance by any means necessary? Yeah, chimpanzee society is like a primitive version of human society. They're not like peace-loving, basically, at all. There's extreme violence. And then once in a while, somebody who's watched too many Disney movies decides to raise a chimpanzee as a pet, and then that eats their face or rips their nuts off or chews their fingers off, that kind of thing. Yeah. It's happened several times. Ripping your nuts off is an interesting strategy for interaction. It's happened to people. It's unfortunate. That's, I guess, one way to ensure that the other chimp doesn't contribute to the gene pool. Well, from a martial arts perspective, it's a fascinating strategy. The nut ripper. I wonder which of the martial arts teaches that. I think it's safe to say, if somebody's got your nuts in their hands and has the option of ripping them off, you will be amenable to whatever they want. Yeah. So like I said, somehow controversially, you've been a proponent of peace on Twitter, on X. So let me ask you about the wars going on today and to see what the path to peace could be. How do you hope the current war in Israel and Gaza comes to an end? What path do you see that can minimize human suffering in the long-term in that part of the world? Well, I think that part of the world is definitely, like if you look up the, there is no easy answer in the dictionary. It'll be like the picture of the Middle East, in Israel especially. So there is no easy answer. And what my, this is strictly my opinion of, is that the goal of Hamas was to provoke an overreaction from Israel. They obviously did not expect to have a military victory, but they really wanted to commit the worst atrocities that they could in order to provoke the most aggressive response possible from Israel. And then leverage that aggressive response to rally Muslims worldwide for the cause of Gaza and Palestine, which they have succeeded in doing. So the counterintuitive thing here, I think that the thing that I think should be done, even though it is very difficult, is that I would recommend that Israel engage in the most conspicuous acts of kindness possible, every part, everything. That is the actual thing that would thwart the goal of Hamas. So in some sense, the degree that makes sense in geopolitics, turn the other cheek, implemented. It's not exactly turn the other cheek, because I do think that there's, you know, I think it is appropriate for Israel to find the Hamas members and, you know, either kill them or incarcerate them. Like, something has to be done, because they're just gonna keep coming otherwise. But in addition to that, they need to do whatever they can. Do whatever they can. There's some talk of establishing, for example, a mobile hospital. I'd recommend doing that. Just making sure that, you know, there's food, water, medical necessities, and just be over the top about it, and be very transparent, so that people can't claim it's a trick. Like, just put a webcam on the thing. You know, 24-7. Deploy acts of kindness. Yeah, conspicuous acts of kindness that are unequivocal, meaning they can't be somehow, because Hamas will then, their response will be, oh, it's a trick. Therefore, you have to counter how it's not a trick. This ultimately fights the broader force of hatred in the region. Yes. And I'm not sure who said it, it's an apocryphal saying, but an eye for an eye makes everyone blind. Now, that neck of the woods, they really believe in the whole eye for an eye thing. But, I mean, you really have, if you're not gonna just outright commit genocide, like against an entire people, which obviously would not be acceptable to, really shouldn't be acceptable to anyone, then you're gonna leave, basically, a lot of people alive who subsequently hate Israel. So really, the question is like, how, for every Hamas member that you kill, how many did you create? And if you create more than you kill, you've not succeeded. That's the real situation there. And it's safe to say that if, you know, if you kill somebody's child in Gaza, if you've made at least a few Hamas members, who will die just to kill an Israeli? That's the situation. So, but I mean, this is one of the most contentious subjects one could possibly discuss. But I think if the goal ultimately is some sort of long-term peace, one has to be, look at this from the standpoint of, over time, are there more or fewer terrorists being created? Let me just linger on war. Yeah, well, war, it's safe to say, war's always existed and always will exist. Always will exist. Always has existed and always will exist. I hope not. You think it always will? There will always be war. It's a question of just how much war. And, you know, there's sort of the scope and scale of war. But to imagine that there would not be any war in the future I think would be a very unlikely outcome. Yeah, you talked about the culture series. There's war even there. Yes. There's a giant war.\"\n",
       "}"
      ]
     },
     "execution_count": 1,
     "metadata": {},
     "output_type": "execute_result"
    }
   ],
   "source": [
    "import openai \n",
    "\n",
    "transcript = openai.Audio.transcribe(\"whisper-1\",\n",
    "                                     open(\"./files/chunks/chunk_0.mp3\",\"rb\"),\n",
    "                                     )\n",
    "                                    \n",
    "transcript "
   ]
  },
  {
   "cell_type": "code",
   "execution_count": 3,
   "metadata": {},
   "outputs": [],
   "source": [
    "from typing import final\n",
    "import glob\n",
    "\n",
    "\n",
    "def transcribe_chunks(chunk_folder, destination):\n",
    "    files = glob.glob(f\"{chunk_folder}/*.mp3\")\n",
    "    final_transcript = \"\"\n",
    "    for file in files:\n",
    "        with open(file, \"rb\") as audio_file:\n",
    "            transcript = openai.Audio.transcribe(\n",
    "                \"whisper-1\",\n",
    "                audio_file,\n",
    "            )\n",
    "            final_transcript += transcript[\"text\"]\n",
    "    with open(destination, \"w\") as file:                     # \"w\"는 쓰기 모드를 의미합니다. 파일이 없으면 새로 생성하고, 파일이 있으면 덮어씁니다. \n",
    "        file.write(final_transcript)"
   ]
  },
  {
   "cell_type": "code",
   "execution_count": null,
   "metadata": {},
   "outputs": [],
   "source": []
  }
 ],
 "metadata": {
  "kernelspec": {
   "display_name": "env",
   "language": "python",
   "name": "python3"
  },
  "language_info": {
   "codemirror_mode": {
    "name": "ipython",
    "version": 3
   },
   "file_extension": ".py",
   "mimetype": "text/x-python",
   "name": "python",
   "nbconvert_exporter": "python",
   "pygments_lexer": "ipython3",
   "version": "3.10.12"
  },
  "orig_nbformat": 4
 },
 "nbformat": 4,
 "nbformat_minor": 2
}
