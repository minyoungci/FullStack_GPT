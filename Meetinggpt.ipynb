{
 "cells": [
  {
   "cell_type": "code",
   "execution_count": 9,
   "metadata": {},
   "outputs": [
    {
     "name": "stderr",
     "output_type": "stream",
     "text": [
      "ffmpeg version 6.1.1 Copyright (c) 2000-2023 the FFmpeg developers\n",
      "  built with Apple clang version 15.0.0 (clang-1500.1.0.2.5)\n",
      "  configuration: --prefix=/opt/homebrew/Cellar/ffmpeg/6.1.1_3 --enable-shared --enable-pthreads --enable-version3 --cc=clang --host-cflags= --host-ldflags='-Wl,-ld_classic' --enable-ffplay --enable-gnutls --enable-gpl --enable-libaom --enable-libaribb24 --enable-libbluray --enable-libdav1d --enable-libharfbuzz --enable-libjxl --enable-libmp3lame --enable-libopus --enable-librav1e --enable-librist --enable-librubberband --enable-libsnappy --enable-libsrt --enable-libssh --enable-libsvtav1 --enable-libtesseract --enable-libtheora --enable-libvidstab --enable-libvmaf --enable-libvorbis --enable-libvpx --enable-libwebp --enable-libx264 --enable-libx265 --enable-libxml2 --enable-libxvid --enable-lzma --enable-libfontconfig --enable-libfreetype --enable-frei0r --enable-libass --enable-libopencore-amrnb --enable-libopencore-amrwb --enable-libopenjpeg --enable-libopenvino --enable-libspeex --enable-libsoxr --enable-libzmq --enable-libzimg --disable-libjack --disable-indev=jack --enable-videotoolbox --enable-audiotoolbox --enable-neon\n",
      "  libavutil      58. 29.100 / 58. 29.100\n",
      "  libavcodec     60. 31.102 / 60. 31.102\n",
      "  libavformat    60. 16.100 / 60. 16.100\n",
      "  libavdevice    60.  3.100 / 60.  3.100\n",
      "  libavfilter     9. 12.100 /  9. 12.100\n",
      "  libswscale      7.  5.100 /  7.  5.100\n",
      "  libswresample   4. 12.100 /  4. 12.100\n",
      "  libpostproc    57.  3.100 / 57.  3.100\n",
      "Input #0, mov,mp4,m4a,3gp,3g2,mj2, from './files/podcast.mp4':\n",
      "  Metadata:\n",
      "    major_brand     : mp42\n",
      "    minor_version   : 0\n",
      "    compatible_brands: isommp42\n",
      "    creation_time   : 2023-11-13T08:03:38.000000Z\n",
      "  Duration: 02:16:46.30, start: 0.000000, bitrate: 245 kb/s\n",
      "  Stream #0:0[0x1](und): Video: h264 (Main) (avc1 / 0x31637661), yuv420p(tv, bt709, progressive), 1280x720 [SAR 1:1 DAR 16:9], 113 kb/s, 30 fps, 30 tbr, 15360 tbn (default)\n",
      "    Metadata:\n",
      "      creation_time   : 2023-11-13T08:03:38.000000Z\n",
      "      handler_name    : ISO Media file produced by Google Inc. Created on: 11/13/2023.\n",
      "      vendor_id       : [0][0][0][0]\n",
      "  Stream #0:1[0x2](eng): Audio: aac (LC) (mp4a / 0x6134706D), 44100 Hz, stereo, fltp, 127 kb/s (default)\n",
      "    Metadata:\n",
      "      creation_time   : 2023-11-13T08:03:38.000000Z\n",
      "      handler_name    : ISO Media file produced by Google Inc. Created on: 11/13/2023.\n",
      "      vendor_id       : [0][0][0][0]\n",
      "Stream mapping:\n",
      "  Stream #0:1 -> #0:0 (aac (native) -> mp3 (libmp3lame))\n",
      "Press [q] to stop, [?] for help\n",
      "Output #0, mp3, to './files/podcast.mp3':\n",
      "  Metadata:\n",
      "    major_brand     : mp42\n",
      "    minor_version   : 0\n",
      "    compatible_brands: isommp42\n",
      "    TSSE            : Lavf60.16.100\n",
      "  Stream #0:0(eng): Audio: mp3, 44100 Hz, stereo, fltp (default)\n",
      "    Metadata:\n",
      "      creation_time   : 2023-11-13T08:03:38.000000Z\n",
      "      handler_name    : ISO Media file produced by Google Inc. Created on: 11/13/2023.\n",
      "      vendor_id       : [0][0][0][0]\n",
      "      encoder         : Lavc60.31.102 libmp3lame\n",
      "[out#0/mp3 @ 0x13c90cf00] video:0kB audio:128224kB subtitle:0kB other streams:0kB global headers:0kB muxing overhead: 0.000264%\n",
      "size=  128224kB time=02:16:46.29 bitrate= 128.0kbits/s speed= 130x    \n"
     ]
    }
   ],
   "source": [
    "# \n",
    "import subprocess # subprocess의 역할은 파이썬 코드에서 command를 실행할 수 있게 해주는 것입니다. \n",
    "from pydub import AudioSegment # pydub은 오디오 파일을 다루는데 사용되는 라이브러리입니다.\n",
    "\n",
    "def extract_audio_from_video(video_path, audio_path): # video_path는 동영상의 저장 경로, audio_path는 추출한 audio가 저장될 경로.\n",
    "    command = [\"ffmpeg\",  \n",
    "                \"-i\", \n",
    "                video_path, \n",
    "                \"-vn\", \n",
    "                audio_path\n",
    "                ] # ffmpeg를 이용하여 동영상에서 오디오를 추출하는 명령어를 command에 저장합니다.\n",
    "\n",
    "    subprocess.run(command) # command를 실행합니다.\n",
    "\n",
    "extract_audio_from_video(\"./files/podcast.mp4\", \"./files/podcast.mp3\")"
   ]
  },
  {
   "cell_type": "markdown",
   "metadata": {},
   "source": [
    "### 긴 오디오 파일을 10분 길이의 mp3 파일들로 변환"
   ]
  },
  {
   "cell_type": "code",
   "execution_count": 10,
   "metadata": {},
   "outputs": [
    {
     "data": {
      "text/plain": [
       "8206.303492063493"
      ]
     },
     "execution_count": 10,
     "metadata": {},
     "output_type": "execute_result"
    }
   ],
   "source": [
    "track = AudioSegment.from_mp3(\"./files/podcast.mp3\") # AudioSegment.from_mp3()를 이용하여 mp3 파일을 불러옵니다.\n",
    "track.duration_seconds # duration_seconds를 이용하여 오디오의 길이를 확인합니다."
   ]
  },
  {
   "cell_type": "code",
   "execution_count": 11,
   "metadata": {},
   "outputs": [],
   "source": [
    "five_minutes = 5 * 60 * 1000 # 5분을 밀리초로 변환합니다. (pydub은 밀리초 단위로 시간을 다룹니다.)"
   ]
  },
  {
   "cell_type": "code",
   "execution_count": 12,
   "metadata": {},
   "outputs": [
    {
     "data": {
      "text/plain": [
       "<_io.BufferedRandom name='./files/first_five.mp3'>"
      ]
     },
     "execution_count": 12,
     "metadata": {},
     "output_type": "execute_result"
    }
   ],
   "source": [
    "first_five =  track[:five_minutes] # 오디오의 처음 5분을 추출합니다.    \n",
    "\n",
    "first_five.export(\"./files/first_five.mp3\", format=\"mp3\") # 추출한 오디오를 mp3 파일로 저장합니다."
   ]
  },
  {
   "cell_type": "code",
   "execution_count": 16,
   "metadata": {},
   "outputs": [],
   "source": [
    "ten_minutes = 10 * 60 * 1000 # 10분을 밀리초로 변환합니다.  "
   ]
  },
  {
   "cell_type": "code",
   "execution_count": 19,
   "metadata": {},
   "outputs": [],
   "source": [
    "import math \n",
    "\n",
    "chunks = math.ceil(len(track) / ten_minutes) # 오디오의 길이를 10분으로 나누어 몇 개의 10분 오디오가 나오는지 확인합니다. 예를 들어 7.3이라면 7덩이의 오디오 뭉치가 생깁니다. 그러나 0.3에 해당하는 부분은 생성할 수 없으므로 8개를 생성해야합니다."
   ]
  },
  {
   "cell_type": "code",
   "execution_count": 22,
   "metadata": {},
   "outputs": [],
   "source": [
    "for i in range(chunks): # 각 덩어리의 시작과 종료 시간을 찾아보자 \n",
    "    start_time = i * ten_minutes # 시작 시간을 계산합니다.\n",
    "    end_time = (i+1) * ten_minutes # 종료 시간을 계산합니다.\n",
    "    \n",
    "    chunk = track[start_time:end_time]\n",
    "\n",
    "    chunk.export(f\"./files/chunks/chunk_{i}.mp3\", format=\"mp3\")"
   ]
  },
  {
   "cell_type": "markdown",
   "metadata": {},
   "source": []
  }
 ],
 "metadata": {
  "kernelspec": {
   "display_name": "env",
   "language": "python",
   "name": "python3"
  },
  "language_info": {
   "codemirror_mode": {
    "name": "ipython",
    "version": 3
   },
   "file_extension": ".py",
   "mimetype": "text/x-python",
   "name": "python",
   "nbconvert_exporter": "python",
   "pygments_lexer": "ipython3",
   "version": "3.11.4"
  },
  "orig_nbformat": 4
 },
 "nbformat": 4,
 "nbformat_minor": 2
}
