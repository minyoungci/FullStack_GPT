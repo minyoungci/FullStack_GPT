{
 "cells": [
  {
   "cell_type": "markdown",
   "metadata": {},
   "source": [
    "# Assistants API \n",
    "\n",
    "assistant에게 메세지를 보내면 그 메세지에 따른 출력을 찾아주도록 할 수도 있고 그 도구를 통해서 모은 결과를 답변해줄 수도 있다. \n",
    "따라서 우리가 전에 봤던 Agent의 컨셉과 약간 비슷하지만 langchain을 이용해 agent를 구현했습니다. \n",
    "\n",
    "이번에는 Langchain을 사용하지 않고 이미 설치되어있는 OpenAI Python 패키지만을 사용할 것입니다. \n",
    "\n",
    "Assistant가 가지고 있는 4가지 부분에 주안점을 두자. \n",
    "\n",
    "\n",
    "1. Assistant \n",
    "\n",
    "2. Thread \n",
    "\n",
    "3. Messages \n",
    "\n",
    "4. Run \n",
    "\n",
    "추가 비용은 발생하지 않음. \n",
    "\n",
    "하지만 하위 모델을 사용할 때 GPT3, GPT4, Turbo는 따로 결제해야 합니다. \n",
    "\n"
   ]
  }
 ],
 "metadata": {
  "language_info": {
   "name": "python"
  },
  "orig_nbformat": 4
 },
 "nbformat": 4,
 "nbformat_minor": 2
}
