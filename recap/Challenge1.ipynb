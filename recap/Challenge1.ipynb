{
 "cells": [
  {
   "cell_type": "code",
   "execution_count": 3,
   "metadata": {},
   "outputs": [],
   "source": [
    "from langchain.chat_models import ChatOpenAI\n",
    "from langchain.prompts import ChatPromptTemplate\n",
    "from langchain.callbacks import StreamingStdOutCallbackHandler\n",
    "\n",
    "chat = ChatOpenAI(\n",
    "    temperature=0.1,\n",
    "    streaming=True,\n",
    "    callbacks=[\n",
    "        StreamingStdOutCallbackHandler(),\n",
    "    ],\n",
    ")"
   ]
  },
  {
   "cell_type": "code",
   "execution_count": 4,
   "metadata": {},
   "outputs": [],
   "source": [
    "first_prompt = ChatPromptTemplate.from_messages([\n",
    "    (\"system\", \n",
    "        \"\"\n",
    "    ),\n",
    "    (\"human\", \"Given the programming language {ProgrammingLanguage}, write a Haiku that captures its essence.\"),\n",
    "])\n",
    "\n",
    "first_chain = first_prompt | chat"
   ]
  },
  {
   "cell_type": "code",
   "execution_count": 7,
   "metadata": {},
   "outputs": [
    {
     "name": "stdout",
     "output_type": "stream",
     "text": [
      "Tensors flow like waves,\n",
      "Deep learning in every line,\n",
      "PyTorch lights the way.This Haiku beautifully captures the essence of PyTorch, a popular programming language for deep learning. It describes how tensors, the fundamental data structure in PyTorch, flow like waves, symbolizing the continuous and dynamic nature of data processing in deep learning. The reference to \"Deep learning in every line\" emphasizes the powerful capabilities of PyTorch for building complex neural networks and performing advanced machine learning tasks. Finally, the line \"PyTorch lights the way\" suggests that PyTorch serves as a guiding light or tool that enables developers and researchers to navigate the intricate world of deep learning and achieve their goals."
     ]
    },
    {
     "data": {
      "text/plain": [
       "AIMessageChunk(content='This Haiku beautifully captures the essence of PyTorch, a popular programming language for deep learning. It describes how tensors, the fundamental data structure in PyTorch, flow like waves, symbolizing the continuous and dynamic nature of data processing in deep learning. The reference to \"Deep learning in every line\" emphasizes the powerful capabilities of PyTorch for building complex neural networks and performing advanced machine learning tasks. Finally, the line \"PyTorch lights the way\" suggests that PyTorch serves as a guiding light or tool that enables developers and researchers to navigate the intricate world of deep learning and achieve their goals.')"
      ]
     },
     "execution_count": 7,
     "metadata": {},
     "output_type": "execute_result"
    }
   ],
   "source": [
    "sec_prompt = ChatPromptTemplate.from_messages([\n",
    "    (\"system\", \"You are a Best Haiku writer. Write a Haiku about my programming language.\"),\n",
    "    (\"human\", 'Explain the meaning of {this} Haiku:')\n",
    "])\n",
    "\n",
    "sec_chain = sec_prompt | chat\n",
    "\n",
    "final_chain = {\"this\": first_chain} | sec_chain\n",
    "\n",
    "final_chain.invoke({\"ProgrammingLanguage\": \"Pytorch\"})"
   ]
  },
  {
   "cell_type": "code",
   "execution_count": null,
   "metadata": {},
   "outputs": [],
   "source": []
  }
 ],
 "metadata": {
  "kernelspec": {
   "display_name": "env",
   "language": "python",
   "name": "python3"
  },
  "language_info": {
   "codemirror_mode": {
    "name": "ipython",
    "version": 3
   },
   "file_extension": ".py",
   "mimetype": "text/x-python",
   "name": "python",
   "nbconvert_exporter": "python",
   "pygments_lexer": "ipython3",
   "version": "3.11.4"
  },
  "orig_nbformat": 4
 },
 "nbformat": 4,
 "nbformat_minor": 2
}
