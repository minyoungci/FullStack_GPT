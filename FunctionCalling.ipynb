{
 "cells": [
  {
   "cell_type": "code",
   "execution_count": 1,
   "metadata": {},
   "outputs": [],
   "source": [
    "from langchain.chat_models import ChatOpenAI\n",
    "from langchain.prompts import PromptTemplate"
   ]
  },
  {
   "cell_type": "code",
   "execution_count": 7,
   "metadata": {},
   "outputs": [
    {
     "data": {
      "text/plain": [
       "'{\\n  \"questions\": [\\n    {\\n      \"question\": \"What year was Rome founded?\",\\n      \"answers\": [\\n        {\\n          \"answer\": \"753 BC\",\\n          \"correct\": true\\n        },\\n        {\\n          \"answer\": \"476 AD\",\\n          \"correct\": false\\n        },\\n        {\\n          \"answer\": \"1492 AD\",\\n          \"correct\": false\\n        },\\n        {\\n          \"answer\": \"1066 AD\",\\n          \"correct\": false\\n        }\\n      ]\\n    },\\n    {\\n      \"question\": \"Who was the first emperor of Rome?\",\\n      \"answers\": [\\n        {\\n          \"answer\": \"Julius Caesar\",\\n          \"correct\": false\\n        },\\n        {\\n          \"answer\": \"Augustus\",\\n          \"correct\": true\\n        },\\n        {\\n          \"answer\": \"Nero\",\\n          \"correct\": false\\n        },\\n        {\\n          \"answer\": \"Constantine\",\\n          \"correct\": false\\n        }\\n      ]\\n    },\\n    {\\n      \"question\": \"What was the official language of the Roman Empire?\",\\n      \"answers\": [\\n        {\\n          \"answer\": \"Latin\",\\n          \"correct\": true\\n        },\\n        {\\n          \"answer\": \"Greek\",\\n          \"correct\": false\\n        },\\n        {\\n          \"answer\": \"Italian\",\\n          \"correct\": false\\n        },\\n        {\\n          \"answer\": \"Spanish\",\\n          \"correct\": false\\n        }\\n      ]\\n    },\\n    {\\n      \"question\": \"Who was the legendary founder of Rome?\",\\n      \"answers\": [\\n        {\\n          \"answer\": \"Romulus\",\\n          \"correct\": true\\n        },\\n        {\\n          \"answer\": \"Remus\",\\n          \"correct\": false\\n        },\\n        {\\n          \"answer\": \"Caesar\",\\n          \"correct\": false\\n        },\\n        {\\n          \"answer\": \"Hannibal\",\\n          \"correct\": false\\n        }\\n      ]\\n    },\\n    {\\n      \"question\": \"What was the name of the Roman gladiatorial arena?\",\\n      \"answers\": [\\n        {\\n          \"answer\": \"Colosseum\",\\n          \"correct\": true\\n        },\\n        {\\n          \"answer\": \"Pantheon\",\\n          \"correct\": false\\n        },\\n        {\\n          \"answer\": \"Forum\",\\n          \"correct\": false\\n        },\\n        {\\n          \"answer\": \"Circus Maximus\",\\n          \"correct\": false\\n        }\\n      ]\\n    }\\n  ]\\n}'"
      ]
     },
     "execution_count": 7,
     "metadata": {},
     "output_type": "execute_result"
    }
   ],
   "source": [
    "function = {\n",
    "    \"name\": \"create_quiz\",\n",
    "    \"description\": \"function that takes a list of questions and answers and returns a quiz\",\n",
    "    \"parameters\": {\n",
    "        \"type\": \"object\",\n",
    "        \"properties\": {\n",
    "            \"questions\": {\n",
    "                \"type\": \"array\",\n",
    "                \"items\": {\n",
    "                    \"type\": \"object\",\n",
    "                    \"properties\": {\n",
    "                        \"question\": {\n",
    "                            \"type\": \"string\",\n",
    "                        },\n",
    "                        \"answers\": {\n",
    "                            \"type\": \"array\",\n",
    "                            \"items\": {\n",
    "                                \"type\": \"object\",\n",
    "                                \"properties\": {\n",
    "                                    \"answer\": {\n",
    "                                        \"type\": \"string\",\n",
    "                                    },\n",
    "                                    \"correct\": {\n",
    "                                        \"type\": \"boolean\",\n",
    "                                    },\n",
    "                                },\n",
    "                                \"required\": [\"answer\", \"correct\"],\n",
    "                            },\n",
    "                        },\n",
    "                    },\n",
    "                    \"required\": [\"question\", \"answers\"],\n",
    "                },\n",
    "            }\n",
    "        },\n",
    "        \"required\": [\"questions\"],\n",
    "    },\n",
    "}\n",
    "\n",
    "\n",
    "llm = ChatOpenAI(\n",
    "    temperature=0.1,\n",
    ").bind(\n",
    "    function_call={\n",
    "        \"name\": \"create_quiz\",\n",
    "    },\n",
    "    functions=[\n",
    "        function,\n",
    "    ],\n",
    ")\n",
    "\n",
    "prompt = PromptTemplate.from_template(\"Make a quiz about {city}\")\n",
    "\n",
    "chain = prompt | llm\n",
    "\n",
    "response = chain.invoke({\"city\": \"rome\"})\n",
    "\n",
    "\n",
    "response = response.additional_kwargs[\"function_call\"][\"arguments\"]\n",
    "\n",
    "response"
   ]
  },
  {
   "cell_type": "code",
   "execution_count": null,
   "metadata": {},
   "outputs": [],
   "source": []
  }
 ],
 "metadata": {
  "kernelspec": {
   "display_name": "LLM_Langchain_APP-7aD6jX0r",
   "language": "python",
   "name": "python3"
  },
  "language_info": {
   "codemirror_mode": {
    "name": "ipython",
    "version": 3
   },
   "file_extension": ".py",
   "mimetype": "text/x-python",
   "name": "python",
   "nbconvert_exporter": "python",
   "pygments_lexer": "ipython3",
   "version": "3.10.12"
  }
 },
 "nbformat": 4,
 "nbformat_minor": 2
}
