{
 "cells": [
  {
   "cell_type": "markdown",
   "metadata": {},
   "source": [
    "# Hugging Face Inference API\n",
    "\n",
    "- Inference API 더이상 제공 안해서 생략"
   ]
  },
  {
   "cell_type": "markdown",
   "metadata": {},
   "source": []
  },
  {
   "cell_type": "markdown",
   "metadata": {},
   "source": [
    "# GPT4ALL\n",
    "\n",
    "로컬 모델과 함께 사용할 수 있는 UI 어플리케이션을 갖고 있고, chat gpt랑 비슷합니다. \n",
    "\n",
    "fine tuning을 할 수 있는 다양한 옵션이 많음.  "
   ]
  },
  {
   "cell_type": "markdown",
   "metadata": {},
   "source": [
    "# Ollama\n",
    "\n",
    "llm를 로컬에서 사용할 수 있습니다. \n",
    "\n",
    "https://ollama.ai/library/mistral\n",
    "\n",
    "위 웹사이트에서 `ollama run mistral` 을 실행하고 Private GPT에서 chat model과 Embedding을 Ollama로 교체합니다."
   ]
  },
  {
   "cell_type": "markdown",
   "metadata": {},
   "source": []
  }
 ],
 "metadata": {
  "language_info": {
   "name": "python"
  }
 },
 "nbformat": 4,
 "nbformat_minor": 2
}
